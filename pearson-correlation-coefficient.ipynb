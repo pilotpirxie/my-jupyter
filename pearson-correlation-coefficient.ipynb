{
 "cells": [
  {
   "cell_type": "markdown",
   "metadata": {},
   "source": [
    "# Pearson correlation coefficient\n",
    "\n",
    "$$r_{x,y}=\\frac{cov(x,y)}{\\sqrt{S_{x}^2*S_{y}^2}}=\\frac{cov(x,y)}{S_x*S_y}$$\n",
    "\n",
    "$$r \\epsilon[-1;+1]$$\n",
    "\n",
    "$$cov(x, y) = \\frac{\\sum_{t=1}^{n}(x_t-\\bar{x})(y_t-\\bar{y})}{n}$$\n",
    "\n",
    "$$S^2=\\frac{\\sum_{t=1}^{n}(x_t-\\bar{x})^2}{n}$$"
   ]
  },
  {
   "cell_type": "code",
   "execution_count": 37,
   "metadata": {},
   "outputs": [],
   "source": [
    "import numpy as npg"
   ]
  },
  {
   "cell_type": "code",
   "execution_count": 38,
   "metadata": {},
   "outputs": [],
   "source": [
    "data = np.array([\n",
    "    [1, 2, 3, 4], # x\n",
    "    [8, 12, 17, 18] #y\n",
    "])"
   ]
  },
  {
   "cell_type": "code",
   "execution_count": 39,
   "metadata": {},
   "outputs": [],
   "source": [
    "n = len(data[0])"
   ]
  },
  {
   "cell_type": "code",
   "execution_count": 40,
   "metadata": {},
   "outputs": [],
   "source": [
    "avg_x = np.average(data[0])\n",
    "avg_y = np.average(data[1])"
   ]
  },
  {
   "cell_type": "code",
   "execution_count": 41,
   "metadata": {},
   "outputs": [],
   "source": [
    "cov_diff = 0\n",
    "for i in range(n):\n",
    "    cov_diff = cov_diff + ((data[0, i] - avg_x) * (data[1, i] - avg_y))"
   ]
  },
  {
   "cell_type": "code",
   "execution_count": 42,
   "metadata": {},
   "outputs": [],
   "source": [
    "cov = cov_diff / n"
   ]
  },
  {
   "cell_type": "code",
   "execution_count": 43,
   "metadata": {},
   "outputs": [],
   "source": [
    "S2_x = 0 # variance\n",
    "S2_y = 0 # variance\n",
    "\n",
    "for i in range(n):\n",
    "    S2_x = S2_x + np.power(data[0, i] - avg_x, 2)\n",
    "    S2_y = S2_y + np.power(data[1, i] - avg_y, 2)\n",
    "\n",
    "S2_x = S2_x / n\n",
    "S2_y = S2_y / n"
   ]
  },
  {
   "cell_type": "code",
   "execution_count": 44,
   "metadata": {},
   "outputs": [],
   "source": [
    "r = cov / np.sqrt(S2_x * S2_y)"
   ]
  },
  {
   "cell_type": "code",
   "execution_count": 45,
   "metadata": {},
   "outputs": [
    {
     "name": "stdout",
     "output_type": "stream",
     "text": [
      "Pearson correlation coefficient between X and Y is 0.9725975251592748\n"
     ]
    }
   ],
   "source": [
    "print('Pearson correlation coefficient between X and Y is {}'.format(r))"
   ]
  }
 ],
 "metadata": {
  "kernelspec": {
   "display_name": "Python 3",
   "language": "python",
   "name": "python3"
  },
  "language_info": {
   "codemirror_mode": {
    "name": "ipython",
    "version": 3
   },
   "file_extension": ".py",
   "mimetype": "text/x-python",
   "name": "python",
   "nbconvert_exporter": "python",
   "pygments_lexer": "ipython3",
   "version": "3.7.6"
  }
 },
 "nbformat": 4,
 "nbformat_minor": 4
}
